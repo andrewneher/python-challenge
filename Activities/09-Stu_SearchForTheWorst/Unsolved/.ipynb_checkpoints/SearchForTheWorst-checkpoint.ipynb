{
 "cells": [
  {
   "cell_type": "markdown",
   "metadata": {},
   "source": [
    "## Building a Pokèdex\n",
    "\n",
    "### Instructions\n",
    "\n",
    "* Read the Pokemon CSV file with Pandas.\n",
    "\n",
    "* Create a new table by extracting the following columns: \"Type 1\", \"HP\", \"Attack\", \"Sp. Atk\", \"Sp. Def\", and \"Speed\".\n",
    "\n",
    "* Find the average stats for each type of Pokemon.\n",
    "\n",
    "* Create a new DataFrame out of the averages.\n",
    "\n",
    "* Calculate the total power level of each type of Pokemon by summing all of the previous stats together and place the results into a new column.\n",
    "\n",
    "### Bonus\n",
    "\n",
    "* Sort the table by strongest type and export the resulting table to a new CSV.\n"
   ]
  },
  {
   "cell_type": "code",
   "execution_count": null,
   "metadata": {
    "collapsed": true
   },
   "outputs": [],
   "source": [
    "# Import Dependencies\n",
    "import pandas as pd"
   ]
  },
  {
   "cell_type": "code",
   "execution_count": null,
   "metadata": {
    "collapsed": true
   },
   "outputs": [],
   "source": [
    "# Create reference to CSV file\n",
    "csv_path = \"Resources/Soccer2018Data.csv\"\n",
    "\n",
    "# Import the CSV into a pandas DataFrame\n",
    "soccer_2018_df = pd.read_csv(csv_path, low_memory=False)\n",
    "soccer_2018_df"
   ]
  },
  {
   "cell_type": "code",
   "execution_count": null,
   "metadata": {
    "collapsed": true
   },
   "outputs": [],
   "source": [
    "# Collect a list of all the unique values in \"Preferred Position\""
   ]
  },
  {
   "cell_type": "code",
   "execution_count": null,
   "metadata": {
    "collapsed": true
   },
   "outputs": [],
   "source": [
    "# Looking only at strikers (ST) to start"
   ]
  },
  {
   "cell_type": "code",
   "execution_count": null,
   "metadata": {
    "collapsed": true
   },
   "outputs": [],
   "source": [
    "# Sort the DataFrame by the values in the \"ST\" column to find the worst\n",
    "\n",
    "# Reset the index so that the index is now based on the sorting locations"
   ]
  },
  {
   "cell_type": "code",
   "execution_count": null,
   "metadata": {
    "collapsed": true,
    "scrolled": false
   },
   "outputs": [],
   "source": [
    "# Save all of the information collected on the worst striker"
   ]
  }
 ],
 "metadata": {
  "kernelspec": {
   "display_name": "Python 3",
   "language": "python",
   "name": "python3"
  },
  "language_info": {
   "codemirror_mode": {
    "name": "ipython",
    "version": 3
   },
   "file_extension": ".py",
   "mimetype": "text/x-python",
   "name": "python",
   "nbconvert_exporter": "python",
   "pygments_lexer": "ipython3",
   "version": "3.7.6"
  }
 },
 "nbformat": 4,
 "nbformat_minor": 2
}
